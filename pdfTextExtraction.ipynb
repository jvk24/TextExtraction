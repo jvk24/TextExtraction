{
 "cells": [
  {
   "cell_type": "code",
   "execution_count": null,
   "id": "95d2e502",
   "metadata": {},
   "outputs": [],
   "source": [
    "from PIL import Image\n",
    "from pdf2image import convert_from_path\n",
    "from pytesseract import image_to_string "
   ]
  },
  {
   "cell_type": "code",
   "execution_count": null,
   "id": "f1ef06e3",
   "metadata": {},
   "outputs": [],
   "source": [
    "#Constants\n",
    "testFilePath = \"1587985805833.pdf\""
   ]
  },
  {
   "cell_type": "code",
   "execution_count": null,
   "id": "45b10cab",
   "metadata": {},
   "outputs": [],
   "source": [
    "def convertPDFtoImage(file):\n",
    "    return convert_from_path(file)\n",
    "\n",
    "def convertImageToText(file):\n",
    "    return image_to_string(file)\n",
    "\n",
    "def getTextFromPDF(file):\n",
    "    images = convertPDFtoImage(file)\n",
    "    return [convertImageToText(file) for pg, img in enumerate(images)] "
   ]
  },
  {
   "cell_type": "code",
   "execution_count": null,
   "id": "55463b91",
   "metadata": {},
   "outputs": [],
   "source": [
    "print(getTextFromPDF(testFilePath))"
   ]
  },
  {
   "cell_type": "code",
   "execution_count": 1,
   "id": "46b5cd82",
   "metadata": {},
   "outputs": [],
   "source": [
    "import pytesseract"
   ]
  },
  {
   "cell_type": "code",
   "execution_count": 2,
   "id": "e24c1c53",
   "metadata": {},
   "outputs": [],
   "source": [
    "#thresholding\n",
    "def get_grayscale(image):\n",
    "    return cv2.cvtColor(image, cv2.COLOR_BGR2GRAY)\n",
    "\n",
    "def thresholding(image):\n",
    "    return cv2.threshold(image, 0, 255, cv2.THRESH_BINARY + cv2.THRESH_OTSU)[1]"
   ]
  },
  {
   "cell_type": "code",
   "execution_count": 3,
   "id": "f349d905",
   "metadata": {},
   "outputs": [
    {
     "data": {
      "text/plain": [
       "'Valid from ಚಾ 84\\n| i 258: i t\\n11 ಹರಪನಹಳ್ಳಿ ಕಸಬಾ ಅನಂತನಹಳ್ಳಿ ಚಟ್ಟೆ. ಅಯ ೦. (4೧86\\n| 8 | | ) ೆ ಸ : | ; nis |\\nಜಾ 1 ಚ 34.14.00.00 |, ,: ‘ 0.00 ಎ | (| le 3 | Sada\\n4 | ake ಟಟ Ce | 18 j 0.00 ಯು.ಎ.ಡಬ್ಲ್ಯೂ 1.80.00.000.... ಸರ್ಕಾರಿ |\\n\\\\° | ಹಟ ga.onao ೫: 8:00 ಇಂಡಿಯ ರಿಸರ್ವ್\\u200c ಬಟಾಲಿಯನ್\\u200c, ..... 32.34.0000 MR 16/2008-2009 |\\n| | ಟ್\\u200c 4.060 0.00 ಕರ್ನಾಟಕ ರಾಜ್ಯ ಪೊಲೀಸ್\\u200c | 40/02/2009 - |\\n೨. ಐ | | » 9.00 | | | | |\\nI Fred : | ‘ | |\\n\"| ೬44 | | | | |\\nen | - | | | | |\\n. | } of | | | | | | | |\\n| 4 | | | | | |\\n| 14. | | | | |\\n(1. tbs | | | | | | |\\n% | | | | |\\nನಗ (|| | || |(.| 14 | |\\n| | 1. ಟರ. ho | | | | |\\n[ಸರ್ಕಾರಿ | 4 | | | | | |\\n| ee ee 1 | | |\\n| (2 norbade yap thio ys RAYE OP) | COP OW OM OT (ತ ಹಗು ansiatnert abo, 0/11 ಸಾ ತ 2! 11. |\\n| sete (133/ 2೬ ಇಗ | \"Ready Osu Lacvvory ey (191 9s 1 ba | ಕ Gory Oe co I. : 10 | oven . ಕ 1114 ಒಬ್ಬ 7 |\\nಓಯ್ನ ಇಲ ಸ ಸೆ hb | Mice | ran db site | dr Cbd | 2991050399] ಬಳೆಯ sds | ಅಮಿತ | wd, | ಹಟ | oe | Os, ‘lode caer | ob ee: |\\ni | 1 1 5 G | 8 ! y ( | 1 ; | in | i i 6 i\\n| | 1130 | | Joe ‘ 1120 | | ao | ‘ | | i | | 2s ‘ Boo |\\n| | | | | | | | | | | | | |\\n| | | | | |\\nicons ಯು.ಎ.ಡಬ್ಲೂ ಸ್ವಂತ | 14 - No Crop Info. \\'0.00.00.00 0.00.00.00/ 0.00.00.00- ‘0.00 | |\\n| ಮುಂಗಾರು ಇ | | | | | |\\n| ಯು.ಎ.ಡಬ್ಲ್ಯೂ | os | 1.80.00.0 | | ಕ No Crop Info. \\'0.00.00.00 0.00.00.00 0.00.00.00- (0.00 | | |\\n| | | | | |\\nಇಂಡಿಯ ರಿಸರ್ವ್\\u200c ಬಟಾಲಿಯನ್\\u200c, | os | 32.34.00.00 - No Crop 1710... .0.00.00.00 0.00.00.00 0.00.00.00- \\'0.00 | | |\\nಕರ್ನಾಟಕ ರಾಜ್ಯ ಪೊಲೀಸ್\\u200c | | | | | | |\\n|| | | | |\\n2018-2019 ಯು.ಎ.ಡಬ್ಲೂ ಸ್ವಂತ | | | | = [No Crop Info. _|0.00.00.0 0.00.00.00 0.00.00.00- 0.00 |\\n| ಹಿಂಗಾರು ಇ | | | | | | | |\\n| ಯು.ಎ.ಡಬ್ಲ್ಯೂ | ಸ್ವಂತ | 1.80.00.00 | | |- No Crop Info. 0.00.00.00,0.00.00.00 naman: 0.00 |\\n| | |\\nಇಂಡಿಯ ರಿಸರ್ವ್\\u200c ಬಟಾಲಿಯನ್\\u200c, | ಸ್ವಂತ 32.34.00.00 | | No Crop Info. 00.00.00 0.00.00.00 0.00.00.00- ‘0.00 | |\\n| ಕರ್ನಾಟಕ ರಾಜ್ಯ ಪೊಲೀಸ್\\u200c | | | | | | | | | | \\' |\\n| | | | | | | | |\\n; | 44414444 44 | ೧ | ೬444  \\'\\n( | | ( | 1 | | | | | | | |\\nRTC DIGITALLY SIGNED BY : HANUMANTHAPPA R ON 4/4/2019 5\\nseme Oud der dome Hast ಪಪ JON. Had7 1G G Jov.O4dO, 42,58 eos» 60\\n'"
      ]
     },
     "execution_count": 3,
     "metadata": {},
     "output_type": "execute_result"
    }
   ],
   "source": [
    "import cv2 \n",
    "\n",
    "img = cv2.imread('test_img.jpg')\n",
    "\n",
    "# Adding custom options\n",
    "custom_config = r'--oem 3 -l kan+eng --psm 6'\n",
    "pytesseract.image_to_string(img, config=custom_config)"
   ]
  },
  {
   "cell_type": "code",
   "execution_count": 4,
   "id": "6033596e",
   "metadata": {},
   "outputs": [],
   "source": [
    "gray = get_grayscale(img)\n",
    "thresh = thresholding(gray)"
   ]
  },
  {
   "cell_type": "code",
   "execution_count": 5,
   "id": "7077bf1b",
   "metadata": {},
   "outputs": [
    {
     "data": {
      "text/plain": [
       "'Valid from 10/02/2008 8:58:00 PM To Till Date\\n\\' ‘ i 58: i t\\naa ಹರಪನಹಳ್ಳಿ ಕಸಬಾ ಅನಂತನಹಳ್ಳಿ 8500 80070 ೦ (11೧29\\nos = | ೆ ಸ , | | nie |\\n3. |] (61184. 34.14.00.00 ; , , : 7 0.00 pee sa an ee `` | Genk\\n4 1 1 1! 1.1 0.00 ಯು.ಎ.ಡಬ್ಲ್ಯೂ 1.80.00.000..... ಸರ್ಕಾರಿ |\\nಕ | aus ಚ್\\u200c _“ 0.00 \\'ಇಂಡಿಯ ರಿಸರ್ವ್\\u200c ಬಟಾಲಿಯನ್\\u200c, ..... 32.34.0009... : | 16/2008-2009 |\\nea te 08. 0.00 Savors’ ರಾಜ್ಯ ಪೊಲೀಸ್\\u200c 40/02/2009 - | |\\npou | “| 9.00 | |\\nae : ! . ; |\\nಯ! ೨, | | | | | |\\n144400 0 68868. ((ಿ ; \" \" 1 | |\\n| poof! | | |\\n೬41 | | | |\\n| Vf | | | | :\\n111೫.18 | | | | | : |\\n` | | i |\\npeep | | ಭ[ | 4 | 3\\n| | pope ೨44 | | I | |\\n| ಸರ್ಕಾರಿ \\' 4 | | | ! |\\n| 0 | ಬಭಂಬ್ಲ ್ಚ್ಚ |. | | | | |\\n1.3.1111... 1 111 ೬೨44444144. ee Vf ip BER 4 2! 1. |\\n| feds 033] 2 yO poe ( 3.111. 11. 11.11.1111 Bed] yc ೫ ನ ಎ | ’ 1.1.1111. | so lon . . . ೫1.1. .\\n( Say ie . Lo th | 131... . 1... 11 | ಸಟಟ | 12241211132] ಖರೆ ಟಿ i wears, | ud, | can | ane | a ಯ ಸಟ ಎ ಯಯ | od ebay |\\ni | 1 4.1 11 1 ; | (1 ( [ ii ; | i | | G i\\n| | | ao | | Joe ‘ ies | i 0 | \\' ೆ i | | 141 \\' iyo |\\n| | | \\'` | | | i | ! | |\\n| | ! | | |\\n20182019 ಯು.ಎ.ಡಬ್ಲೂ ಸ್ವಂತ | | L No Crop Info. 0.00.00.00 0.00.00.00, 0.00.00.00- 000 | ,\\n| ಮುಂಗಾರು 7 | i | | : |\\n| ಯು.ಎ.ಡಬ್ಲ್ಯೂ (ಸ್ವಂತ | 1.80.00.0 | i— No Crop Info. 0.00.00.00/ 0.00.00.00! 0.00.00.00- 0.00 | |\\n( ( | |\\nಇಂಡಿಯ ರಿಸರ್ವ್\\u200c ಬಟಾಲಿಯನ್\\u200c, | os | 32.34.00.00 - No Crop 1710... 0.00.00.00 0.00.00.00, 0.00.00.00- 0.00 | | |\\nಕರ್ನಾಟಕ ರಾಜ್ಯ ಪೊಲೀಸ್\\u200c | | | i | |\\n| ( | |\\n2018-2019 ಯು.ಎ.ಡಬ್ಲೂ ಸ್ವಂತ | | | | [No Crop 1710... 0.00.00.0/ 0.00.00.00 0.00.00.00- 0.00 | |\\n| ಹಿಂಗಾರು ಇ | | | | | | |\\n| ಯು.ಎ.ಡಬ್ಲ್ಯೂ | ಸ್ವಂತ , 1.80.00.00 | | | No Crop Info. 0.00.00.00,0.00.00.00, 0.00.00.04- 0.00 |\\n| | ;\\nಇಂಡಿಯ ರಿಸರ್ವ್\\u200c ಬಟಾಲಿಯನ್\\u200c, \\' ಸ್ವಂತ |32.34.00.00 | |- No Crop Info. 00.00.00 0.00.00.00; 0.00.00.00- |o.00 | | |\\n| ಕರ್ನಾಟಕ ರಾಜ್ಯ ಪೊಲೀಸ್\\u200c | i | | | | : i \\'\\n| | | ; | | | ` |\\n44 pop fp ಓ6ರ್ಗ4ೀ | ae po ೨6.\\ni | ! : 4 | i | |\\nRTC DIGITALLY SIGNED BY : HANUMANTHAPPA R ON 4/4/2019 5\\n18111111111. 1 ಟಟ ಟಟ ಪ ಪಘ್ರ ತ ್\\u200cಾ ್ಸ ಟುುು್ತ\\n'"
      ]
     },
     "execution_count": 5,
     "metadata": {},
     "output_type": "execute_result"
    }
   ],
   "source": [
    "#Digital image thresholding seems to improve accuracy of OCR\n",
    "pytesseract.image_to_string(thresh, config=custom_config)"
   ]
  },
  {
   "cell_type": "code",
   "execution_count": null,
   "id": "a4bca9bd",
   "metadata": {},
   "outputs": [],
   "source": []
  },
  {
   "cell_type": "code",
   "execution_count": null,
   "id": "e0ac8a22",
   "metadata": {},
   "outputs": [],
   "source": []
  }
 ],
 "metadata": {
  "kernelspec": {
   "display_name": "Python 3",
   "language": "python",
   "name": "python3"
  },
  "language_info": {
   "codemirror_mode": {
    "name": "ipython",
    "version": 3
   },
   "file_extension": ".py",
   "mimetype": "text/x-python",
   "name": "python",
   "nbconvert_exporter": "python",
   "pygments_lexer": "ipython3",
   "version": "3.8.8"
  }
 },
 "nbformat": 4,
 "nbformat_minor": 5
}
